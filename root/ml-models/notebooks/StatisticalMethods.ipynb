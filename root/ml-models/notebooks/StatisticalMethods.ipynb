{
 "cells": [
  {
   "cell_type": "markdown",
   "id": "0c9e76fb",
   "metadata": {},
   "source": [
    "## Applying Statistical Methods"
   ]
  },
  {
   "cell_type": "code",
   "execution_count": 25,
   "id": "fd4a4f73",
   "metadata": {},
   "outputs": [],
   "source": [
    "from scipy.stats import friedmanchisquare\n",
    "import scikit_posthocs as sp"
   ]
  },
  {
   "cell_type": "markdown",
   "id": "4def419f",
   "metadata": {},
   "source": [
    "#### RF Scores"
   ]
  },
  {
   "cell_type": "code",
   "execution_count": 26,
   "id": "5d3e4d8a",
   "metadata": {},
   "outputs": [],
   "source": [
    "acc_rf = [0.99507389, 0.99014778, 0.99507389, 0.99014778, 0.99507389, \n",
    "          0.98514851, 0.99009901, 1.0, 0.9950495, 0.9950495]\n",
    "\n",
    "prec_rf = [0.99509804, 0.99033816, 0.99516908, 0.99012291, 0.99509804, \n",
    "           0.98591549, 0.99047619, 1.0, 0.99516908, 0.99516908]\n",
    "\n",
    "recall_rf = [0.99509804, 0.99019608, 0.99509804, 0.99012291, 0.99509804, \n",
    "             0.98507463, 0.99004975, 1.0, 0.99502488, 0.99502488]\n",
    "\n",
    "f1_rf = [0.99506173, 0.99012291, 0.99509777, 0.99012291, 0.99506173, \n",
    "        0.98517217, 0.99011858, 1.0, 0.99506064, 0.99506064]"
   ]
  },
  {
   "cell_type": "markdown",
   "id": "f1d7a7fe",
   "metadata": {},
   "source": [
    "#### SVM Scores"
   ]
  },
  {
   "cell_type": "code",
   "execution_count": 27,
   "id": "b8cf1115",
   "metadata": {},
   "outputs": [],
   "source": [
    "acc_svm = [0.95566502, 0.96551724, 0.99507389, 0.96551724, 0.98029557,\n",
    "           0.97524752, 0.97029703, 0.98514851, 0.98019802, 0.98514851]\n",
    "\n",
    "prec_svm = [0.95637265, 0.96750711, 0.99509804, 0.96807101, 0.98101353,\n",
    "            0.97657952, 0.97162978, 0.98557423, 0.98081435, 0.98550725]\n",
    "\n",
    "recall_svm = [0.9555897, 0.96568627, 0.99509804, 0.96568627, 0.98039216,\n",
    "              0.97512438, 0.97014925, 0.98507463, 0.9800995, 0.98507463]\n",
    "\n",
    "f1_svm = [0.95553132, 0.96518985, 0.99506173, 0.9653585, 0.98023561,\n",
    "          0.97508716, 0.96988149, 0.98506636, 0.98001071, 0.98503136]"
   ]
  },
  {
   "cell_type": "markdown",
   "id": "85228507",
   "metadata": {},
   "source": [
    "#### NB Scores"
   ]
  },
  {
   "cell_type": "code",
   "execution_count": 28,
   "id": "1c0ae6dc",
   "metadata": {},
   "outputs": [],
   "source": [
    "acc_nb = [0.96551724, 0.94581281, 0.9408867, 0.93103448, 0.93596059,\n",
    "          0.94554455, 0.92079208, 0.95544554, 0.94554455, 0.96534653]\n",
    "\n",
    "prec_nb = [0.9672264, 0.94595992, 0.94413287, 0.93142968, 0.93819749,\n",
    "           0.9465616, 0.92100487, 0.9565032, 0.94549312, 0.96542874]\n",
    "\n",
    "recall_nb = [0.96524729, 0.94585894, 0.94073749, 0.93107989, 0.93576236,\n",
    "             0.94549312, 0.9206175, 0.95551653, 0.94556629, 0.96532046]\n",
    "\n",
    "f1_nb = [0.96536368, 0.9456669, 0.94139745, 0.93082707, 0.9360012,\n",
    "         0.94529757, 0.92067331, 0.95576773, 0.94549475, 0.96512088]"
   ]
  },
  {
   "cell_type": "markdown",
   "id": "8c37144e",
   "metadata": {},
   "source": [
    "#### KNN Scores"
   ]
  },
  {
   "cell_type": "code",
   "execution_count": 29,
   "id": "2547ad8b",
   "metadata": {},
   "outputs": [],
   "source": [
    "acc_knn = [0.96551724, 0.96059113, 0.97536946, 0.97044335, 0.96551724,\n",
    "           0.96039604, 0.97029703, 0.98019802, 0.96039604, 0.96534653]\n",
    "\n",
    "prec_knn = [0.96719577, 0.9615586, 0.97625366, 0.97180135, 0.9658219,\n",
    "            0.96270214, 0.97162978, 0.98081435, 0.96046176, 0.96657557]\n",
    "\n",
    "recall_knn = [0.96568627, 0.96078431, 0.9754902, 0.97058824, 0.96561311,\n",
    "              0.960199, 0.97014925, 0.9800995, 0.96027217, 0.96532046]\n",
    "\n",
    "f1_knn = [0.96508907, 0.9601975, 0.97518115, 0.97054055, 0.96561071,\n",
    "          0.95965033, 0.96988149, 0.98001071, 0.96026298, 0.96562959]"
   ]
  },
  {
   "cell_type": "markdown",
   "id": "1f2e132c",
   "metadata": {},
   "source": [
    "#### GB Scores"
   ]
  },
  {
   "cell_type": "code",
   "execution_count": 30,
   "id": "fe4ff4b6",
   "metadata": {},
   "outputs": [],
   "source": [
    "acc_gb = [1.0, 0.99507389, 1.0, 0.99014778, 0.99014778,\n",
    "          0.99009901, 0.99009901, 1.0, 0.9950495, 0.9950495]\n",
    "\n",
    "prec_gb = [1.0, 0.99509804, 1.0, 0.99033816, 0.99019608,\n",
    "           0.99047619, 0.99047619, 1.0, 0.99516908, 0.99516908]\n",
    "\n",
    "recall_gb = [1.0, 0.99509804, 1.0, 0.99019608, 0.99019608,\n",
    "             0.99004975, 0.99004975, 1.0, 0.99502488, 0.99502488]\n",
    "\n",
    "f1_gb = [1.0, 0.99506173, 1.0, 0.99012291, 0.99015977,\n",
    "         0.99011858, 0.99011858, 1.0, 0.99506064, 0.99506064]"
   ]
  },
  {
   "cell_type": "markdown",
   "id": "585efbec",
   "metadata": {},
   "source": [
    "#### DT Scores"
   ]
  },
  {
   "cell_type": "code",
   "execution_count": 31,
   "id": "f1e94731",
   "metadata": {},
   "outputs": [],
   "source": [
    "acc_dt = [1.0, 0.99507389, 1.0, 0.99014778, 0.99014778,\n",
    "          0.98514851, 0.97524752, 0.9950495, 0.9950495, 0.9950495]\n",
    "\n",
    "prec_dt = [1.0, 0.99509804, 1.0, 0.99033816, 0.99019608,\n",
    "           0.98591549, 0.9754902, 0.99509804, 0.99516908, 0.99516908]\n",
    "\n",
    "recall_dt = [1.0, 0.99509804, 1.0, 0.99019608, 0.99019608,\n",
    "             0.98507463, 0.97527071, 0.99509804, 0.99502488, 0.99502488]\n",
    "\n",
    "f1_dt = [1.0, 0.99506173, 1.0, 0.99012291, 0.99015977,\n",
    "         0.98517217, 0.97534413, 0.99506173, 0.99506064, 0.99506064]"
   ]
  },
  {
   "cell_type": "code",
   "execution_count": 32,
   "id": "089d20cf",
   "metadata": {},
   "outputs": [],
   "source": [
    "model_names = ['RF', 'SVM', 'NB', 'KNN', 'GB', 'DT']"
   ]
  },
  {
   "cell_type": "code",
   "execution_count": 33,
   "id": "4ee949a0",
   "metadata": {},
   "outputs": [],
   "source": [
    "import numpy as np"
   ]
  },
  {
   "cell_type": "code",
   "execution_count": 34,
   "id": "7046e569",
   "metadata": {},
   "outputs": [],
   "source": [
    "def friedman_nemenyi_test(*args, metric_name=''):\n",
    "    print(f\"\\nFriedman Test ({metric_name}):\")\n",
    "    stat, p = friedmanchisquare(*args)\n",
    "    print(f\"Stat={stat:.4f}, p-value={p:.4f}\")\n",
    "    if p < 0.05:\n",
    "        data = np.array(args).T\n",
    "        nemenyi = sp.posthoc_nemenyi_friedman(data)\n",
    "        nemenyi.index = model_names\n",
    "        nemenyi.columns = model_names\n",
    "        print(f\"\\nPost-hoc Nemenyi ({metric_name}):\")\n",
    "        print(nemenyi)\n",
    "    else:\n",
    "        print(\"Sem diferença significativa.\")"
   ]
  },
  {
   "cell_type": "markdown",
   "id": "b6380d7e",
   "metadata": {},
   "source": [
    "### Accuracy"
   ]
  },
  {
   "cell_type": "code",
   "execution_count": 35,
   "id": "5566fe28",
   "metadata": {},
   "outputs": [
    {
     "name": "stdout",
     "output_type": "stream",
     "text": [
      "\n",
      "Friedman Test (Acurácia):\n",
      "Stat=44.3578, p-value=0.0000\n",
      "\n",
      "Post-hoc Nemenyi (Acurácia):\n",
      "           RF       SVM        NB       KNN        GB        DT\n",
      "RF   1.000000  0.121073  0.000244  0.019195  0.991226  1.000000\n",
      "SVM  0.121073  1.000000  0.470338  0.986430  0.023199  0.104755\n",
      "NB   0.000244  0.470338  1.000000  0.866680  0.000014  0.000187\n",
      "KNN  0.019195  0.986430  0.866680  1.000000  0.002301  0.015816\n",
      "GB   0.991226  0.023199  0.000014  0.002301  1.000000  0.994624\n",
      "DT   1.000000  0.104755  0.000187  0.015816  0.994624  1.000000\n"
     ]
    }
   ],
   "source": [
    "friedman_nemenyi_test(acc_rf, acc_svm, acc_nb, acc_knn, acc_gb, acc_dt, metric_name='Acurácia')"
   ]
  },
  {
   "cell_type": "markdown",
   "id": "a1dc120a",
   "metadata": {},
   "source": [
    "### Precision"
   ]
  },
  {
   "cell_type": "code",
   "execution_count": 36,
   "id": "5047e572",
   "metadata": {},
   "outputs": [
    {
     "name": "stdout",
     "output_type": "stream",
     "text": [
      "\n",
      "Friedman Test (Precisão):\n",
      "Stat=44.3844, p-value=0.0000\n",
      "\n",
      "Post-hoc Nemenyi (Precisão):\n",
      "           RF       SVM        NB       KNN        GB        DT\n",
      "RF   1.000000  0.121073  0.000318  0.023199  0.979939  0.999975\n",
      "SVM  0.121073  1.000000  0.509702  0.991226  0.015816  0.077334\n",
      "NB   0.000318  0.509702  1.000000  0.866680  0.000010  0.000142\n",
      "KNN  0.023199  0.991226  0.866680  1.000000  0.001821  0.012977\n",
      "GB   0.979939  0.015816  0.000010  0.001821  1.000000  0.994624\n",
      "DT   0.999975  0.077334  0.000142  0.012977  0.994624  1.000000\n"
     ]
    }
   ],
   "source": [
    "friedman_nemenyi_test(prec_rf, prec_svm, prec_nb, prec_knn, prec_gb, prec_dt, metric_name='Precisão')"
   ]
  },
  {
   "cell_type": "markdown",
   "id": "59d9c210",
   "metadata": {},
   "source": [
    "### Recall"
   ]
  },
  {
   "cell_type": "code",
   "execution_count": 37,
   "id": "e12bb021",
   "metadata": {},
   "outputs": [
    {
     "name": "stdout",
     "output_type": "stream",
     "text": [
      "\n",
      "Friedman Test (Recall):\n",
      "Stat=44.3353, p-value=0.0000\n",
      "\n",
      "Post-hoc Nemenyi (Recall):\n",
      "           RF       SVM        NB       KNN        GB        DT\n",
      "RF   1.000000  0.159450  0.000318  0.033452  0.971461  0.999894\n",
      "SVM  0.159450  1.000000  0.431802  0.991226  0.019195  0.090215\n",
      "NB   0.000318  0.431802  1.000000  0.809406  0.000008  0.000108\n",
      "KNN  0.033452  0.991226  0.809406  1.000000  0.002301  0.015816\n",
      "GB   0.971461  0.019195  0.000008  0.002301  1.000000  0.994624\n",
      "DT   0.999894  0.090215  0.000108  0.015816  0.994624  1.000000\n"
     ]
    }
   ],
   "source": [
    "friedman_nemenyi_test(recall_rf, recall_svm, recall_nb, recall_knn, recall_gb, recall_dt, metric_name='Recall')"
   ]
  },
  {
   "cell_type": "markdown",
   "id": "087635b4",
   "metadata": {},
   "source": [
    "### F1-Score"
   ]
  },
  {
   "cell_type": "code",
   "execution_count": 38,
   "id": "936196cc",
   "metadata": {},
   "outputs": [
    {
     "name": "stdout",
     "output_type": "stream",
     "text": [
      "\n",
      "Friedman Test (F1-Score):\n",
      "Stat=44.6061, p-value=0.0000\n",
      "\n",
      "Post-hoc Nemenyi (F1-Score):\n",
      "           RF       SVM        NB       KNN        GB        DT\n",
      "RF   1.000000  0.090215  0.000187  0.015816  0.994624  1.000000\n",
      "SVM  0.090215  1.000000  0.509702  0.991226  0.019195  0.090215\n",
      "NB   0.000187  0.509702  1.000000  0.866680  0.000014  0.000187\n",
      "KNN  0.015816  0.991226  0.866680  1.000000  0.002301  0.015816\n",
      "GB   0.994624  0.019195  0.000014  0.002301  1.000000  0.994624\n",
      "DT   1.000000  0.090215  0.000187  0.015816  0.994624  1.000000\n"
     ]
    }
   ],
   "source": [
    "friedman_nemenyi_test(f1_rf, f1_svm, f1_nb, f1_knn, f1_gb, f1_dt, metric_name='F1-Score')"
   ]
  },
  {
   "cell_type": "code",
   "execution_count": 39,
   "id": "3585d82b",
   "metadata": {},
   "outputs": [],
   "source": [
    "import matplotlib.pyplot as plt\n",
    "import seaborn as sns\n",
    "import pandas as pd"
   ]
  },
  {
   "cell_type": "code",
   "execution_count": 40,
   "id": "ca4326f6",
   "metadata": {},
   "outputs": [],
   "source": [
    "models = ['Random Forest'] * 10 + ['SVM'] * 10 + ['Naive Bayes'] * 10 + ['KNN'] * 10 + ['Gradient Boosting'] * 10 + ['Decision Tree'] * 10"
   ]
  },
  {
   "cell_type": "code",
   "execution_count": 41,
   "id": "aff4670b",
   "metadata": {},
   "outputs": [],
   "source": [
    "acuracia = [\n",
    "    *[0.99507389, 0.99014778, 0.99507389, 0.99014778, 0.99507389, 0.98514851, 0.99009901, 1.0, 0.9950495, 0.9950495],\n",
    "    *[0.95566502, 0.96551724, 0.99507389, 0.96551724, 0.98029557, 0.97524752, 0.97029703, 0.98514851, 0.98019802, 0.98514851],\n",
    "    *[0.96551724, 0.94581281, 0.9408867, 0.93103448, 0.93596059, 0.94554455, 0.92079208, 0.95544554, 0.94554455, 0.96534653],\n",
    "    *[0.96551724, 0.96059113, 0.97536946, 0.97044335, 0.96551724, 0.96039604, 0.97029703, 0.98019802, 0.96039604, 0.96534653],\n",
    "    *[1.0, 0.99507389, 1.0, 0.99014778, 0.99014778, 0.99009901, 0.99009901, 1.0, 0.9950495, 0.9950495],\n",
    "    *[1.0, 0.99507389, 1.0, 0.99014778, 0.99014778, 0.98514851, 0.97524752, 0.9950495, 0.9950495, 0.9950495]\n",
    "]"
   ]
  },
  {
   "cell_type": "code",
   "execution_count": 42,
   "id": "1c58d7e5",
   "metadata": {},
   "outputs": [],
   "source": [
    "df = pd.DataFrame({\n",
    "    'Modelo': models,\n",
    "    'Acurácia': acuracia\n",
    "})"
   ]
  },
  {
   "cell_type": "code",
   "execution_count": 43,
   "id": "9ff41785",
   "metadata": {},
   "outputs": [
    {
     "data": {
      "image/png": "[encoded data removed]",
      "text/plain": [
       "<Figure size 1200x600 with 1 Axes>"
      ]
     },
     "metadata": {},
     "output_type": "display_data"
    }
   ],
   "source": [
    "plt.figure(figsize=(12, 6))\n",
    "sns.boxplot(x='Modelo', y='Acurácia', data=df)\n",
    "sns.stripplot(x='Modelo', y='Acurácia', data=df, color='black', alpha=0.5, jitter=0.2)\n",
    "plt.title('Distribuição da Acurácia por Modelo')\n",
    "plt.ylim(0.9, 1.01)  # Ajuste para melhor visualização\n",
    "plt.show()"
   ]
  }
 ],
 "metadata": {
  "kernelspec": {
   "display_name": "Python 3",
   "language": "python",
   "name": "python3"
  },
  "language_info": {
   "codemirror_mode": {
    "name": "ipython",
    "version": 3
   },
   "file_extension": ".py",
   "mimetype": "text/x-python",
   "name": "python",
   "nbconvert_exporter": "python",
   "pygments_lexer": "ipython3",
   "version": "3.10.7"
  }
 },
 "nbformat": 4,
 "nbformat_minor": 5
}
