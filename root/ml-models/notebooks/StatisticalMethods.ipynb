{
 "cells": [
  {
   "cell_type": "markdown",
   "id": "0c9e76fb",
   "metadata": {},
   "source": [
    "## Applying Statistical Methods"
   ]
  },
  {
   "cell_type": "code",
   "execution_count": 1,
   "id": "fd4a4f73",
   "metadata": {},
   "outputs": [],
   "source": [
    "from scipy.stats import friedmanchisquare\n",
    "import scikit_posthocs as sp"
   ]
  },
  {
   "cell_type": "markdown",
   "id": "4def419f",
   "metadata": {},
   "source": [
    "#### RF Scores"
   ]
  },
  {
   "cell_type": "code",
   "execution_count": 2,
   "id": "5d3e4d8a",
   "metadata": {},
   "outputs": [],
   "source": [
    "acc_rf = [0.99507389, 0.99014778, 0.99507389, 0.99014778, 0.99507389, \n",
    "          0.98514851, 0.99009901, 1.0, 0.9950495, 0.9950495]\n",
    "\n",
    "prec_rf = [0.99509804, 0.99033816, 0.99516908, 0.99012291, 0.99509804, \n",
    "           0.98591549, 0.99047619, 1.0, 0.99516908, 0.99516908]\n",
    "\n",
    "recall_rf = [0.99509804, 0.99019608, 0.99509804, 0.99012291, 0.99509804, \n",
    "             0.98507463, 0.99004975, 1.0, 0.99502488, 0.99502488]\n",
    "\n",
    "f1_rf = [0.99506173, 0.99012291, 0.99509777, 0.99012291, 0.99506173, \n",
    "        0.98517217, 0.99011858, 1.0, 0.99506064, 0.99506064]"
   ]
  },
  {
   "cell_type": "markdown",
   "id": "f1d7a7fe",
   "metadata": {},
   "source": [
    "#### SVM Scores"
   ]
  },
  {
   "cell_type": "code",
   "execution_count": 3,
   "id": "b8cf1115",
   "metadata": {},
   "outputs": [],
   "source": [
    "acc_svm = [0.95566502, 0.96551724, 0.99507389, 0.96551724, 0.98029557,\n",
    "           0.97524752, 0.97029703, 0.98514851, 0.98019802, 0.98514851]\n",
    "\n",
    "prec_svm = [0.95637265, 0.96750711, 0.99509804, 0.96807101, 0.98101353,\n",
    "            0.97657952, 0.97162978, 0.98557423, 0.98081435, 0.98550725]\n",
    "\n",
    "recall_svm = [0.9555897, 0.96568627, 0.99509804, 0.96568627, 0.98039216,\n",
    "              0.97512438, 0.97014925, 0.98507463, 0.9800995, 0.98507463]\n",
    "\n",
    "f1_svm = [0.95553132, 0.96518985, 0.99506173, 0.9653585, 0.98023561,\n",
    "          0.97508716, 0.96988149, 0.98506636, 0.98001071, 0.98503136]"
   ]
  },
  {
   "cell_type": "markdown",
   "id": "85228507",
   "metadata": {},
   "source": [
    "#### NB Scores"
   ]
  },
  {
   "cell_type": "code",
   "execution_count": 4,
   "id": "1c0ae6dc",
   "metadata": {},
   "outputs": [],
   "source": [
    "acc_nb = [0.96551724, 0.94581281, 0.9408867, 0.93103448, 0.93596059,\n",
    "          0.94554455, 0.92079208, 0.95544554, 0.94554455, 0.96534653]\n",
    "\n",
    "prec_nb = [0.9672264, 0.94595992, 0.94413287, 0.93142968, 0.93819749,\n",
    "           0.9465616, 0.92100487, 0.9565032, 0.94549312, 0.96542874]\n",
    "\n",
    "recall_nb = [0.96524729, 0.94585894, 0.94073749, 0.93107989, 0.93576236,\n",
    "             0.94549312, 0.9206175, 0.95551653, 0.94556629, 0.96532046]\n",
    "\n",
    "f1_nb = [0.96536368, 0.9456669, 0.94139745, 0.93082707, 0.9360012,\n",
    "         0.94529757, 0.92067331, 0.95576773, 0.94549475, 0.96512088]"
   ]
  },
  {
   "cell_type": "markdown",
   "id": "8c37144e",
   "metadata": {},
   "source": [
    "#### KNN Scores"
   ]
  },
  {
   "cell_type": "code",
   "execution_count": 5,
   "id": "2547ad8b",
   "metadata": {},
   "outputs": [],
   "source": [
    "acc_knn = [0.96551724, 0.96059113, 0.97536946, 0.97044335, 0.96551724,\n",
    "           0.96039604, 0.97029703, 0.98019802, 0.96039604, 0.96534653]\n",
    "\n",
    "prec_knn = [0.96719577, 0.9615586, 0.97625366, 0.97180135, 0.9658219,\n",
    "            0.96270214, 0.97162978, 0.98081435, 0.96046176, 0.96657557]\n",
    "\n",
    "recall_knn = [0.96568627, 0.96078431, 0.9754902, 0.97058824, 0.96561311,\n",
    "              0.960199, 0.97014925, 0.9800995, 0.96027217, 0.96532046]\n",
    "\n",
    "f1_knn = [0.96508907, 0.9601975, 0.97518115, 0.97054055, 0.96561071,\n",
    "          0.95965033, 0.96988149, 0.98001071, 0.96026298, 0.96562959]"
   ]
  },
  {
   "cell_type": "markdown",
   "id": "1f2e132c",
   "metadata": {},
   "source": [
    "#### GB Scores"
   ]
  },
  {
   "cell_type": "code",
   "execution_count": 6,
   "id": "fe4ff4b6",
   "metadata": {},
   "outputs": [],
   "source": [
    "acc_gb = [1.0, 0.99507389, 1.0, 0.99014778, 0.99014778,\n",
    "          0.99009901, 0.99009901, 1.0, 0.9950495, 0.9950495]\n",
    "\n",
    "prec_gb = [1.0, 0.99509804, 1.0, 0.99033816, 0.99019608,\n",
    "           0.99047619, 0.99047619, 1.0, 0.99516908, 0.99516908]\n",
    "\n",
    "recall_gb = [1.0, 0.99509804, 1.0, 0.99019608, 0.99019608,\n",
    "             0.99004975, 0.99004975, 1.0, 0.99502488, 0.99502488]\n",
    "\n",
    "f1_gb = [1.0, 0.99506173, 1.0, 0.99012291, 0.99015977,\n",
    "         0.99011858, 0.99011858, 1.0, 0.99506064, 0.99506064]"
   ]
  },
  {
   "cell_type": "markdown",
   "id": "585efbec",
   "metadata": {},
   "source": [
    "#### DT Scores"
   ]
  },
  {
   "cell_type": "code",
   "execution_count": 7,
   "id": "f1e94731",
   "metadata": {},
   "outputs": [],
   "source": [
    "acc_dt = [1.0, 0.99507389, 1.0, 0.99014778, 0.99014778,\n",
    "          0.98514851, 0.97524752, 0.9950495, 0.9950495, 0.9950495]\n",
    "\n",
    "prec_dt = [1.0, 0.99509804, 1.0, 0.99033816, 0.99019608,\n",
    "           0.98591549, 0.9754902, 0.99509804, 0.99516908, 0.99516908]\n",
    "\n",
    "recall_dt = [1.0, 0.99509804, 1.0, 0.99019608, 0.99019608,\n",
    "             0.98507463, 0.97527071, 0.99509804, 0.99502488, 0.99502488]\n",
    "\n",
    "f1_dt = [1.0, 0.99506173, 1.0, 0.99012291, 0.99015977,\n",
    "         0.98517217, 0.97534413, 0.99506173, 0.99506064, 0.99506064]"
   ]
  },
  {
   "cell_type": "markdown",
   "id": "1dc951e0",
   "metadata": {},
   "source": [
    "### LR Scores"
   ]
  },
  {
   "cell_type": "code",
   "execution_count": 14,
   "id": "089d20cf",
   "metadata": {},
   "outputs": [],
   "source": [
    "model_names = ['RF', 'SVM', 'NB', 'KNN', 'GB', 'DT', 'LR']"
   ]
  },
  {
   "cell_type": "code",
   "execution_count": 9,
   "id": "a8e32062",
   "metadata": {},
   "outputs": [],
   "source": [
    "acc_lr = [0.93596059, 0.8817734,  0.96551724, 0.92610837, 0.92610837, 0.93069307,\n",
    "          0.94059406, 0.94059406, 0.93069307, 0.92574257]\n",
    "\n",
    "prec_lr = [0.93767507, 0.88563188, 0.96602025, 0.92663953, 0.92802872, 0.93068278,\n",
    "           0.94109769, 0.94058229, 0.93147337, 0.92905075]\n",
    "\n",
    "recall_lr = [0.93583553, 0.88176763, 0.96561311, 0.92617793, 0.92610477, 0.93049459,\n",
    "             0.940518, 0.940518, 0.93049459, 0.92595844]\n",
    "\n",
    "f1_lr = [0.93620987, 0.882723, 0.96556851, 0.92631014, 0.92660632, 0.93035401,\n",
    "         0.94049554, 0.9405155, 0.93044134, 0.92608225]"
   ]
  },
  {
   "cell_type": "code",
   "execution_count": 10,
   "id": "4ee949a0",
   "metadata": {},
   "outputs": [],
   "source": [
    "import numpy as np"
   ]
  },
  {
   "cell_type": "code",
   "execution_count": 11,
   "id": "7046e569",
   "metadata": {},
   "outputs": [],
   "source": [
    "def friedman_nemenyi_test(*args, metric_name=''):\n",
    "    print(f\"\\nFriedman Test ({metric_name}):\")\n",
    "    stat, p = friedmanchisquare(*args)\n",
    "    print(f\"Stat={stat:.4f}, p-value={p:.4f}\")\n",
    "    if p < 0.05:\n",
    "        data = np.array(args).T\n",
    "        nemenyi = sp.posthoc_nemenyi_friedman(data)\n",
    "        nemenyi.index = model_names\n",
    "        nemenyi.columns = model_names\n",
    "        print(f\"\\nPost-hoc Nemenyi ({metric_name}):\")\n",
    "        print(nemenyi)\n",
    "    else:\n",
    "        print(\"Sem diferença significativa.\")"
   ]
  },
  {
   "cell_type": "markdown",
   "id": "b6380d7e",
   "metadata": {},
   "source": [
    "### Accuracy"
   ]
  },
  {
   "cell_type": "code",
   "execution_count": 15,
   "id": "5566fe28",
   "metadata": {},
   "outputs": [
    {
     "name": "stdout",
     "output_type": "stream",
     "text": [
      "\n",
      "Friedman Test (Acurácia):\n",
      "Stat=54.9832, p-value=0.0000\n",
      "\n",
      "Post-hoc Nemenyi (Acurácia):\n",
      "           RF       SVM        NB       KNN        GB        DT        LR\n",
      "RF   1.000000  0.309844  0.001625  0.087853  0.998617  1.000000  0.000040\n",
      "SVM  0.309844  1.000000  0.575532  0.997636  0.100376  0.281653  0.129608\n",
      "NB   0.001625  0.575532  1.000000  0.898068  0.000173  0.001316  0.982115\n",
      "KNN  0.087853  0.997636  0.898068  1.000000  0.019133  0.076617  0.402786\n",
      "GB   0.998617  0.100376  0.000173  0.019133  1.000000  0.999241  0.000003\n",
      "DT   1.000000  0.281653  0.001316  0.076617  0.999241  1.000000  0.000031\n",
      "LR   0.000040  0.129608  0.982115  0.402786  0.000003  0.000031  1.000000\n"
     ]
    }
   ],
   "source": [
    "friedman_nemenyi_test(acc_rf, acc_svm, acc_nb, acc_knn, acc_gb, acc_dt, acc_lr,\n",
    "                      metric_name='Acurácia')"
   ]
  },
  {
   "cell_type": "markdown",
   "id": "a1dc120a",
   "metadata": {},
   "source": [
    "### Precision"
   ]
  },
  {
   "cell_type": "code",
   "execution_count": 16,
   "id": "5047e572",
   "metadata": {},
   "outputs": [
    {
     "name": "stdout",
     "output_type": "stream",
     "text": [
      "\n",
      "Friedman Test (Precisão):\n",
      "Stat=54.9834, p-value=0.0000\n",
      "\n",
      "Post-hoc Nemenyi (Precisão):\n",
      "           RF       SVM        NB       KNN        GB        DT        LR\n",
      "RF   1.000000  0.309844  0.002001  0.100376  0.996166  0.999999  0.000051\n",
      "SVM  0.309844  1.000000  0.610712  0.998617  0.076617  0.230008  0.146463\n",
      "NB   0.002001  0.610712  1.000000  0.898068  0.000136  0.001063  0.982115\n",
      "KNN  0.100376  0.998617  0.898068  1.000000  0.016128  0.066581  0.402786\n",
      "GB   0.996166  0.076617  0.000136  0.016128  1.000000  0.999241  0.000002\n",
      "DT   0.999999  0.230008  0.001063  0.066581  0.999241  1.000000  0.000024\n",
      "LR   0.000051  0.146463  0.982115  0.402786  0.000002  0.000024  1.000000\n"
     ]
    }
   ],
   "source": [
    "friedman_nemenyi_test(prec_rf, prec_svm, prec_nb, prec_knn, prec_gb, prec_dt, \n",
    "                      prec_lr, metric_name='Precisão')"
   ]
  },
  {
   "cell_type": "markdown",
   "id": "59d9c210",
   "metadata": {},
   "source": [
    "### Recall"
   ]
  },
  {
   "cell_type": "code",
   "execution_count": 17,
   "id": "e12bb021",
   "metadata": {},
   "outputs": [
    {
     "name": "stdout",
     "output_type": "stream",
     "text": [
      "\n",
      "Friedman Test (Recall):\n",
      "Stat=54.9982, p-value=0.0000\n",
      "\n",
      "Post-hoc Nemenyi (Recall):\n",
      "           RF       SVM        NB       KNN        GB        DT        LR\n",
      "RF   1.000000  0.370538  0.002001  0.129608  0.994057  0.999993  0.000065\n",
      "SVM  0.370538  1.000000  0.540215  0.998617  0.087853  0.255021  0.129608\n",
      "NB   0.002001  0.540215  1.000000  0.855064  0.000107  0.000856  0.987221\n",
      "KNN  0.129608  0.998617  0.855064  1.000000  0.019133  0.076617  0.370538\n",
      "GB   0.994057  0.087853  0.000107  0.019133  1.000000  0.999241  0.000002\n",
      "DT   0.999993  0.255021  0.000856  0.076617  0.999241  1.000000  0.000024\n",
      "LR   0.000065  0.129608  0.987221  0.370538  0.000002  0.000024  1.000000\n"
     ]
    }
   ],
   "source": [
    "friedman_nemenyi_test(recall_rf, recall_svm, recall_nb, recall_knn, recall_gb, \n",
    "                      recall_dt, recall_lr, metric_name='Recall')"
   ]
  },
  {
   "cell_type": "markdown",
   "id": "087635b4",
   "metadata": {},
   "source": [
    "### F1-Score"
   ]
  },
  {
   "cell_type": "code",
   "execution_count": 18,
   "id": "936196cc",
   "metadata": {},
   "outputs": [
    {
     "name": "stdout",
     "output_type": "stream",
     "text": [
      "\n",
      "Friedman Test (F1-Score):\n",
      "Stat=55.1556, p-value=0.0000\n",
      "\n",
      "Post-hoc Nemenyi (F1-Score):\n",
      "           RF       SVM        NB       KNN        GB        DT        LR\n",
      "RF   1.000000  0.255021  0.001316  0.076617  0.999241  1.000000  0.000031\n",
      "SVM  0.255021  1.000000  0.610712  0.998617  0.087853  0.255021  0.146463\n",
      "NB   0.001316  0.610712  1.000000  0.898068  0.000173  0.001316  0.982115\n",
      "KNN  0.076617  0.998617  0.898068  1.000000  0.019133  0.076617  0.402786\n",
      "GB   0.999241  0.087853  0.000173  0.019133  1.000000  0.999241  0.000003\n",
      "DT   1.000000  0.255021  0.001316  0.076617  0.999241  1.000000  0.000031\n",
      "LR   0.000031  0.146463  0.982115  0.402786  0.000003  0.000031  1.000000\n"
     ]
    }
   ],
   "source": [
    "friedman_nemenyi_test(f1_rf, f1_svm, f1_nb, f1_knn, f1_gb, f1_dt, f1_lr, \n",
    "                      metric_name='F1-Score')"
   ]
  }
 ],
 "metadata": {
  "kernelspec": {
   "display_name": "Python 3",
   "language": "python",
   "name": "python3"
  },
  "language_info": {
   "codemirror_mode": {
    "name": "ipython",
    "version": 3
   },
   "file_extension": ".py",
   "mimetype": "text/x-python",
   "name": "python",
   "nbconvert_exporter": "python",
   "pygments_lexer": "ipython3",
   "version": "3.10.7"
  }
 },
 "nbformat": 4,
 "nbformat_minor": 5
}
